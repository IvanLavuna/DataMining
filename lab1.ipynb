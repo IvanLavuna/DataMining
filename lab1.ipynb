{
 "cells": [
  {
   "metadata": {},
   "cell_type": "markdown",
   "source": [
    "Tasks:\n",
    "1. Intro: Brief overview of the dataset and the objective of the analysis\n",
    "2. Data preprocessing:\n",
    "- tokenization, stopwords removal, lemmatization\n",
    "3. Exploratory Analysis: \n",
    "- Frequency analysis of words\n",
    "- Topic modeling findings\n",
    "- Sentiment analysis outcomes (conclusions made by me)\n",
    "\n",
    "What needs also to be there?\n",
    "1. Visualization: \n",
    "- Word clouds\n",
    "- Topic distributions\n",
    "- Sentiment distributions\n",
    "2. Insights and Interpretations: Discussion of key insights derived from the analysis, including notable patterns, trends, or clusters identified in the text data.\n",
    "3. Conclusion: Final remarks and reflections on the analysis process and the significance of the findings\n",
    "\n",
    "Analysis objectives:\n",
    "Based on tweets, figure out confidence value of \"weather I should buy cropto or not right now?\". This can be used by trading algorithm to prefict long-term investments(month or years)\n"
   ],
   "id": "361e624293d2653f"
  },
  {
   "metadata": {},
   "cell_type": "code",
   "outputs": [],
   "execution_count": null,
   "source": "",
   "id": "b4b4b58cff63c41c"
  }
 ],
 "metadata": {
  "kernelspec": {
   "display_name": "Python 3",
   "language": "python",
   "name": "python3"
  },
  "language_info": {
   "codemirror_mode": {
    "name": "ipython",
    "version": 2
   },
   "file_extension": ".py",
   "mimetype": "text/x-python",
   "name": "python",
   "nbconvert_exporter": "python",
   "pygments_lexer": "ipython2",
   "version": "2.7.6"
  }
 },
 "nbformat": 4,
 "nbformat_minor": 5
}
